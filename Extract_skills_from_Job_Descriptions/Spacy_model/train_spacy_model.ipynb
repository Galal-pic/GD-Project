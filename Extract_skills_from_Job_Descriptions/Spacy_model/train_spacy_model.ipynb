{
  "cells": [
    {
      "cell_type": "markdown",
      "source": [
        "## Import Libraries"
      ],
      "metadata": {
        "id": "RwyVFxjgweEl"
      }
    },
    {
      "cell_type": "code",
      "execution_count": 1,
      "metadata": {
        "id": "PJPOjYfuCsnT"
      },
      "outputs": [],
      "source": [
        "import re\n",
        "import json\n",
        "import spacy\n",
        "import random\n",
        "import pandas as pd\n",
        "from spacy import util\n",
        "from spacy.tokens import Doc\n",
        "from spacy.training import Example\n",
        "from spacy.language import Language"
      ]
    },
    {
      "cell_type": "markdown",
      "source": [
        "## Read data\n",
        "- We created this data specifically for the ``space model`` because it has a special form for training. You can view it from here [Data Format](https://stackoverflow.com/questions/47443976/formatting-training-dataset-for-spacy-ner)\n"
      ],
      "metadata": {
        "id": "TMLRSJF_wkL-"
      }
    },
    {
      "cell_type": "code",
      "source": [
        "from google.colab import drive\n",
        "drive.mount('/content/drive')"
      ],
      "metadata": {
        "colab": {
          "base_uri": "https://localhost:8080/"
        },
        "id": "oIOa717_u5y6",
        "outputId": "4af96487-9931-43d6-af0e-d65d6664401d"
      },
      "execution_count": 2,
      "outputs": [
        {
          "output_type": "stream",
          "name": "stdout",
          "text": [
            "Drive already mounted at /content/drive; to attempt to forcibly remount, call drive.mount(\"/content/drive\", force_remount=True).\n"
          ]
        }
      ]
    },
    {
      "cell_type": "markdown",
      "source": [
        "* I have created annotation for three files, each file containing 100 examples. We will take two for training and one for testing and evaluation"
      ],
      "metadata": {
        "id": "if6omHJc8Mjb"
      }
    },
    {
      "cell_type": "code",
      "execution_count": 3,
      "metadata": {
        "id": "c5yyGGQmKEk0"
      },
      "outputs": [],
      "source": [
        "# Data-Json file1\n",
        "with open(r\"/content/drive/MyDrive/Untitled folder/data_cloab/Data_Annotation_1.json\") as src:\n",
        "    ner_annotated_data0 = json.loads(src.read())\n",
        "# Test_data\n",
        "with open(r\"/content/drive/MyDrive/Untitled folder/data_cloab/Data_Annotation_2.json\") as src:\n",
        "    ner_annotated_data1 = json.loads(src.read())\n",
        "# Data-Json file3\n",
        "with open(r\"/content/drive/MyDrive/Untitled folder/data_cloab/Data_Annotation_3.json\") as src:\n",
        "    ner_annotated_data2 = json.loads(src.read())\n",
        "\n",
        "# aggregate all data into one list\n",
        "ner_annotated_data = []\n",
        "for i in ner_annotated_data0['annotations']:\n",
        "    ner_annotated_data.append(i)\n",
        "\n",
        "for i in ner_annotated_data2['annotations']:\n",
        "    ner_annotated_data.append(i)"
      ]
    },
    {
      "cell_type": "code",
      "source": [
        "# Example\n",
        "ner_annotated_data[2]"
      ],
      "metadata": {
        "id": "6xB9Hme0u4YR",
        "colab": {
          "base_uri": "https://localhost:8080/"
        },
        "outputId": "27f353ae-31a9-4840-82cc-274aa218b963"
      },
      "execution_count": 4,
      "outputs": [
        {
          "output_type": "execute_result",
          "data": {
            "text/plain": [
              "[\"small team experienced engineer determined change modern mobility including entrenched car rental industry emphasize team ownership iterative development moving fast without breaking thing looking someone drive development restful apis building rapidly scaling backend ideal candidate experience web programming comfortable working aws infrastructure know whatever framework library currently use open mastering new framework necessary currently hiring full-stack engineer experience level sde sde ii senior sdes applicant minimum 1+ year professional software development experience fluency least one dynamic language ruby preferred silvercar might building apis client facing apps ruby rail interacting data store like rds elasticache redis others creating maintaining scalable infrastructure leveraging modern aws product building amazing ux client side apps angular bootstrap j framework writing test documentation work feature development scrum team maintaining expertise current emerging technology tool technical friend would say really grok ci jenkins etc source control tool git ca n't go sleep knowing test failing really know scalable infrastructure love agile development delivering code make thing work get thing done great communicator would never consider rockstar ninja know automotive bus think unlocking audi via ssh sound awesome non-tech friend might even say make excellent informed decision know ask advice take work seriously take seriously enjoy mentoring others leading example love learn new thing quickly like working team leave thing better found offer competitive base salary bonus incentive eligibility full benefit medical dental vision 401k pto working dynamic team downtown austin alongside developer product-owners friendly small company environment progressive culture flexible hour backed 107 year old automotive industry leader\\r\",\n",
              " {'entities': [[296, 311, 'SKILL'],\n",
              "   [332, 335, 'SKILL'],\n",
              "   [870, 879, 'SKILL'],\n",
              "   [1084, 1087, 'SKILL'],\n",
              "   [1166, 1171, 'SKILL']]}]"
            ]
          },
          "metadata": {},
          "execution_count": 4
        }
      ]
    },
    {
      "cell_type": "markdown",
      "source": [
        "* This is the data format. If you notice, you will find the job description, followed by a beginning indicator and an ending indicator for each skill."
      ],
      "metadata": {
        "id": "2SFsP3HD1zyc"
      }
    },
    {
      "cell_type": "markdown",
      "source": [
        "### Prepare Train Data\n",
        "* to fit the model"
      ],
      "metadata": {
        "id": "i6bix4N215_L"
      }
    },
    {
      "cell_type": "code",
      "execution_count": 5,
      "metadata": {
        "id": "L72N6XveJGvt",
        "colab": {
          "base_uri": "https://localhost:8080/"
        },
        "outputId": "c8f50da4-2a5b-4106-8dad-407c451b167d"
      },
      "outputs": [
        {
          "output_type": "execute_result",
          "data": {
            "text/plain": [
              "(\"small team experienced engineer determined change modern mobility including entrenched car rental industry emphasize team ownership iterative development moving fast without breaking thing looking someone drive development restful apis building rapidly scaling backend ideal candidate experience web programming comfortable working aws infrastructure know whatever framework library currently use open mastering new framework necessary currently hiring full-stack engineer experience level sde sde ii senior sdes applicant minimum 1+ year professional software development experience fluency least one dynamic language ruby preferred silvercar might building apis client facing apps ruby rail interacting data store like rds elasticache redis others creating maintaining scalable infrastructure leveraging modern aws product building amazing ux client side apps angular bootstrap j framework writing test documentation work feature development scrum team maintaining expertise current emerging technology tool technical friend would say really grok ci jenkins etc source control tool git ca n't go sleep knowing test failing really know scalable infrastructure love agile development delivering code make thing work get thing done great communicator would never consider rockstar ninja know automotive bus think unlocking audi via ssh sound awesome non-tech friend might even say make excellent informed decision know ask advice take work seriously take seriously enjoy mentoring others leading example love learn new thing quickly like working team leave thing better found offer competitive base salary bonus incentive eligibility full benefit medical dental vision 401k pto working dynamic team downtown austin alongside developer product-owners friendly small company environment progressive culture flexible hour backed 107 year old automotive industry leader\\r\",\n",
              " [(296, 311, 'SKILL'),\n",
              "  (332, 335, 'SKILL'),\n",
              "  (870, 879, 'SKILL'),\n",
              "  (1084, 1087, 'SKILL'),\n",
              "  (1166, 1171, 'SKILL')])"
            ]
          },
          "metadata": {},
          "execution_count": 5
        }
      ],
      "source": [
        "\"\"\"\n",
        "For Example:-\n",
        "(\"Proficient in Python and Java programming languages.\", {\"entities\": [(12, 18, \"SKILL\"), (23, 27, \"SKILL\")]}),\n",
        "\"\"\"\n",
        "train_data = []\n",
        "for lis in ner_annotated_data:\n",
        "  try:\n",
        "    text = lis[0]\n",
        "    label = []\n",
        "    for i in lis[1]['entities']:\n",
        "      label.append((i[0],i[1],i[2]))\n",
        "    train_data.append((text,label))\n",
        "  except:\n",
        "    pass\n",
        "train_data[2]"
      ]
    },
    {
      "cell_type": "code",
      "execution_count": 6,
      "metadata": {
        "id": "XzJ3b9kXRq8k"
      },
      "outputs": [],
      "source": [
        "def print_doc_entities(_doc: Doc):\n",
        "    if _doc.ents:\n",
        "        for _ent in _doc.ents:\n",
        "            print(f\"     {_ent.text},'--->' {_ent.label_}\")\n",
        "    else:\n",
        "        print(\"     NONE\")"
      ]
    },
    {
      "cell_type": "markdown",
      "source": [
        "## Train Spacy Model"
      ],
      "metadata": {
        "id": "-7i_1yPi4Yvz"
      }
    },
    {
      "cell_type": "code",
      "execution_count": 7,
      "metadata": {
        "colab": {
          "base_uri": "https://localhost:8080/"
        },
        "id": "SDpu9VuklCfl",
        "outputId": "b1ec7f61-f119-4322-ac7c-4b8c5fc487af"
      },
      "outputs": [
        {
          "output_type": "stream",
          "name": "stdout",
          "text": [
            "   Training ...\n"
          ]
        },
        {
          "output_type": "stream",
          "name": "stderr",
          "text": [
            "/usr/local/lib/python3.10/dist-packages/spacy/training/iob_utils.py:149: UserWarning: [W030] Some entities could not be aligned in the text \"\"experience 1-3 yrs number of vacancies 1 job desc...\" with entities \"[(65, 74, 'SKILL'), (76, 81, 'SKILL'), (83, 86, 'S...\". Use `spacy.training.offsets_to_biluo_tags(nlp.make_doc(text), entities)` to check the alignment. Misaligned entities ('-') will be ignored during training.\n",
            "  warnings.warn(\n",
            "/usr/local/lib/python3.10/dist-packages/spacy/training/iob_utils.py:149: UserWarning: [W030] Some entities could not be aligned in the text \"\"title senior devops engineer skills devops, c#/ja...\" with entities \"[(45, 47, 'SKILL'), (47, 52, 'SKILL'), (98, 103, '...\". Use `spacy.training.offsets_to_biluo_tags(nlp.make_doc(text), entities)` to check the alignment. Misaligned entities ('-') will be ignored during training.\n",
            "  warnings.warn(\n"
          ]
        }
      ],
      "source": [
        "def customizing_pipeline_component(nlp: Language,epoch:int):\n",
        "    #Disable all pipelines components except NER\n",
        "    disabled_pipes = []\n",
        "    for pipe_name in nlp.pipe_names:\n",
        "        if pipe_name != 'ner':\n",
        "            nlp.disable_pipes(pipe_name)\n",
        "            disabled_pipes.append(pipe_name)\n",
        "    # Train Model\n",
        "    print(\"   Training ...\")\n",
        "    optimizer = nlp.create_optimizer()\n",
        "    for _ in range(epoch):\n",
        "        random.shuffle(train_data)\n",
        "        for raw_text, entity_offsets in train_data:\n",
        "            doc = nlp.make_doc(raw_text)\n",
        "            example = Example.from_dict(doc, {\"entities\": entity_offsets})\n",
        "            nlp.update([example], sgd=optimizer)\n",
        "\n",
        "    # Enable all previously disabled pipe components\n",
        "    for pipe_name in disabled_pipes:\n",
        "        nlp.enable_pipe(pipe_name)\n",
        "    return nlp\n",
        "# Load the pre-trained model and fine-tune it for NER\n",
        "epoch=10\n",
        "model = spacy.load('en_core_web_sm')\n",
        "model_spacy = customizing_pipeline_component(model,epoch)"
      ]
    },
    {
      "cell_type": "code",
      "execution_count": 8,
      "metadata": {
        "colab": {
          "base_uri": "https://localhost:8080/"
        },
        "id": "QKeVUY0qlEX0",
        "outputId": "b298bd1f-b178-427c-8f9c-7127492d7905"
      },
      "outputs": [
        {
          "output_type": "stream",
          "name": "stdout",
          "text": [
            "     web services .,'--->' SKILL\n",
            "     relational databases.,'--->' SKILL\n",
            "     mvc,'--->' SKILL\n",
            "     c,'--->' SKILL\n",
            "     .net,'--->' SKILL\n",
            "     .net core,'--->' SKILL\n",
            "     html5,'--->' SKILL\n",
            "     css3,'--->' SKILL\n",
            "     mssql,'--->' SKILL\n",
            "     mysql,'--->' SKILL\n",
            "     reactjs.,'--->' SKILL\n",
            "     syspro s erp,'--->' SKILL\n"
          ]
        }
      ],
      "source": [
        "x =\"software developer integration immediate opening a dynamic akron or cleveland area company is looking for an experienced software developer. the integration developer designs, develops, tests, maintains and enhances multiple systems serving internal users as well as our suppliers and customers. the integration developer interacts with it and other internal business partners to deliver systems that advance company strategy and improve the enterprise capability of it. candidates need to demonstrate experience in the following skillsets proven technical expertise in the design, development, coding, testing, and debugging of enterprise software. strong knowledge of web services . experience working with relational databases. experience authoring and maintaining data access and or or database queries. familiar with standard software design patterns, methodologies, and the mvc architecture. proficient in the following technologies c , .net, .net core, html5, css3, mssql, mysql, reactjs. experience working with and or or administering microsoft iis experience with syspro s erp package a plus but not required candidates must be able to execute the following functions creates and deploys code and configuration associated with support and project work across our application portfolio. assists in creating, evolving and standardizing technical processes such as source code management, continuous integration, etc. submits code and configuration with high levels of quality, performance, security, scalability and extensibility. assists in the creation and evaluation of business requirements and project plans. other requirements include takes pride in delivering work on time and with quality good problem solving and decision making abilities ability to learn quickly in a fast paced environment ability to both work independently and with teams effectively juggles a continuous mix of support and project work able to work off hours or provide on call support when needed the ideal candidate must be a self starter, able to work independently, and have experience in the skillsets mentioned above. this position requires a highly responsible and organized individual with a good work ethic and a minimum of two years of experience using the tools and technologies noted above. compensation is commensurate with experience. industries manufacturing other education bachelor s degree in computer science, information systems, or related field, or combination of education and equivalent work experience. job type contract experience software development 2 years work location one location work remotely no\"\n",
        "print_doc_entities(model_spacy(x))"
      ]
    },
    {
      "cell_type": "code",
      "execution_count": 9,
      "metadata": {
        "id": "FDX-XngWpGvd"
      },
      "outputs": [],
      "source": [
        "model_spacy.to_disk('/content/drive/MyDrive/Untitled folder/data_cloab/ner_model3')"
      ]
    },
    {
      "cell_type": "code",
      "execution_count": 10,
      "metadata": {
        "id": "EUqqPHrTpYD8",
        "outputId": "7ce89edb-4b0e-4f84-c1d1-c948002e84ad",
        "colab": {
          "base_uri": "https://localhost:8080/"
        }
      },
      "outputs": [
        {
          "output_type": "stream",
          "name": "stdout",
          "text": [
            "     web services .,'--->' SKILL\n",
            "     relational databases.,'--->' SKILL\n",
            "     mvc architecture.,'--->' SKILL\n",
            "     c,'--->' SKILL\n",
            "     .net,'--->' SKILL\n",
            "     .net core,'--->' SKILL\n",
            "     html5,'--->' SKILL\n",
            "     css3,'--->' SKILL\n",
            "     mssql,'--->' SKILL\n",
            "     mysql,'--->' SKILL\n",
            "     reactjs.,'--->' SKILL\n",
            "     syspro s erp,'--->' SKILL\n",
            "     decision making abilities ability,'--->' SKILL\n"
          ]
        }
      ],
      "source": [
        "import spacy\n",
        "nlp = spacy.load('/content/drive/MyDrive/Untitled folder/data_cloab/ner_model')\n",
        "x = \"software developer integration immediate opening a dynamic akron or cleveland area company is looking for an experienced software developer. the integration developer designs, develops, tests, maintains and enhances multiple systems serving internal users as well as our suppliers and customers. the integration developer interacts with it and other internal business partners to deliver systems that advance company strategy and improve the enterprise capability of it. candidates need to demonstrate experience in the following skillsets proven technical expertise in the design, development, coding, testing, and debugging of enterprise software. strong knowledge of web services . experience working with relational databases. experience authoring and maintaining data access and or or database queries. familiar with standard software design patterns, methodologies, and the mvc architecture. proficient in the following technologies c , .net, .net core, html5, css3, mssql, mysql, reactjs. experience working with and or or administering microsoft iis experience with syspro s erp package a plus but not required candidates must be able to execute the following functions creates and deploys code and configuration associated with support and project work across our application portfolio. assists in creating, evolving and standardizing technical processes such as source code management, continuous integration, etc. submits code and configuration with high levels of quality, performance, security, scalability and extensibility. assists in the creation and evaluation of business requirements and project plans. other requirements include takes pride in delivering work on time and with quality good problem solving and decision making abilities ability to learn quickly in a fast paced environment ability to both work independently and with teams effectively juggles a continuous mix of support and project work able to work off hours or provide on call support when needed the ideal candidate must be a self starter, able to work independently, and have experience in the skillsets mentioned above. this position requires a highly responsible and organized individual with a good work ethic and a minimum of two years of experience using the tools and technologies noted above. compensation is commensurate with experience. industries manufacturing other education bachelor s degree in computer science, information systems, or related field, or combination of education and equivalent work experience. job type contract experience software development 2 years work location one location work remotely no\"\n",
        "print_doc_entities(nlp(x))"
      ]
    },
    {
      "cell_type": "markdown",
      "source": [
        "## Test Data"
      ],
      "metadata": {
        "id": "HxoRMrla-g_a"
      }
    },
    {
      "cell_type": "code",
      "source": [
        "desc = []\n",
        "skill_final = []\n",
        "for row in ner_annotated_data1['annotations']:\n",
        "  text = row[0]\n",
        "  desc.append(text)\n",
        "  skills_index = row[1]['entities']\n",
        "  skills = []\n",
        "  for skill in skills_index:\n",
        "    skills.append(text[skill[0]:skill[1]])\n",
        "  skill_final.append(skills)\n",
        "\n",
        "test_data =pd.DataFrame({'Desc':desc,'skills':skill_final})\n",
        "test_data.head()"
      ],
      "metadata": {
        "colab": {
          "base_uri": "https://localhost:8080/",
          "height": 206
        },
        "id": "MUWOtGI6-kor",
        "outputId": "5c6e2d46-ae17-45e1-df06-33ff38ea9335"
      },
      "execution_count": 17,
      "outputs": [
        {
          "output_type": "execute_result",
          "data": {
            "text/plain": [
              "                                                Desc  \\\n",
              "0  \"wordpress cms web developer experience in wor...   \n",
              "1  \"title node js developer exp 3+ years location...   \n",
              "2  overview worldventures dynamic global member-b...   \n",
              "3  \"founded in 2006 as a workforce strategy consu...   \n",
              "4  \"we are looking for a senior software engineer...   \n",
              "\n",
              "                                              skills  \n",
              "0  [wordpress core, library, plug-ins, templates,...  \n",
              "1  [software developing, node js., javascript, pr...  \n",
              "2  [operational database administration, sql couc...  \n",
              "3  [full stack, java, web-services development, f...  \n",
              "4  [software engineering skills, javascript, css,...  "
            ],
            "text/html": [
              "\n",
              "  <div id=\"df-3e478978-a189-4e5d-8f3f-1c39babb8745\" class=\"colab-df-container\">\n",
              "    <div>\n",
              "<style scoped>\n",
              "    .dataframe tbody tr th:only-of-type {\n",
              "        vertical-align: middle;\n",
              "    }\n",
              "\n",
              "    .dataframe tbody tr th {\n",
              "        vertical-align: top;\n",
              "    }\n",
              "\n",
              "    .dataframe thead th {\n",
              "        text-align: right;\n",
              "    }\n",
              "</style>\n",
              "<table border=\"1\" class=\"dataframe\">\n",
              "  <thead>\n",
              "    <tr style=\"text-align: right;\">\n",
              "      <th></th>\n",
              "      <th>Desc</th>\n",
              "      <th>skills</th>\n",
              "    </tr>\n",
              "  </thead>\n",
              "  <tbody>\n",
              "    <tr>\n",
              "      <th>0</th>\n",
              "      <td>\"wordpress cms web developer experience in wor...</td>\n",
              "      <td>[wordpress core, library, plug-ins, templates,...</td>\n",
              "    </tr>\n",
              "    <tr>\n",
              "      <th>1</th>\n",
              "      <td>\"title node js developer exp 3+ years location...</td>\n",
              "      <td>[software developing, node js., javascript, pr...</td>\n",
              "    </tr>\n",
              "    <tr>\n",
              "      <th>2</th>\n",
              "      <td>overview worldventures dynamic global member-b...</td>\n",
              "      <td>[operational database administration, sql couc...</td>\n",
              "    </tr>\n",
              "    <tr>\n",
              "      <th>3</th>\n",
              "      <td>\"founded in 2006 as a workforce strategy consu...</td>\n",
              "      <td>[full stack, java, web-services development, f...</td>\n",
              "    </tr>\n",
              "    <tr>\n",
              "      <th>4</th>\n",
              "      <td>\"we are looking for a senior software engineer...</td>\n",
              "      <td>[software engineering skills, javascript, css,...</td>\n",
              "    </tr>\n",
              "  </tbody>\n",
              "</table>\n",
              "</div>\n",
              "    <div class=\"colab-df-buttons\">\n",
              "\n",
              "  <div class=\"colab-df-container\">\n",
              "    <button class=\"colab-df-convert\" onclick=\"convertToInteractive('df-3e478978-a189-4e5d-8f3f-1c39babb8745')\"\n",
              "            title=\"Convert this dataframe to an interactive table.\"\n",
              "            style=\"display:none;\">\n",
              "\n",
              "  <svg xmlns=\"http://www.w3.org/2000/svg\" height=\"24px\" viewBox=\"0 -960 960 960\">\n",
              "    <path d=\"M120-120v-720h720v720H120Zm60-500h600v-160H180v160Zm220 220h160v-160H400v160Zm0 220h160v-160H400v160ZM180-400h160v-160H180v160Zm440 0h160v-160H620v160ZM180-180h160v-160H180v160Zm440 0h160v-160H620v160Z\"/>\n",
              "  </svg>\n",
              "    </button>\n",
              "\n",
              "  <style>\n",
              "    .colab-df-container {\n",
              "      display:flex;\n",
              "      gap: 12px;\n",
              "    }\n",
              "\n",
              "    .colab-df-convert {\n",
              "      background-color: #E8F0FE;\n",
              "      border: none;\n",
              "      border-radius: 50%;\n",
              "      cursor: pointer;\n",
              "      display: none;\n",
              "      fill: #1967D2;\n",
              "      height: 32px;\n",
              "      padding: 0 0 0 0;\n",
              "      width: 32px;\n",
              "    }\n",
              "\n",
              "    .colab-df-convert:hover {\n",
              "      background-color: #E2EBFA;\n",
              "      box-shadow: 0px 1px 2px rgba(60, 64, 67, 0.3), 0px 1px 3px 1px rgba(60, 64, 67, 0.15);\n",
              "      fill: #174EA6;\n",
              "    }\n",
              "\n",
              "    .colab-df-buttons div {\n",
              "      margin-bottom: 4px;\n",
              "    }\n",
              "\n",
              "    [theme=dark] .colab-df-convert {\n",
              "      background-color: #3B4455;\n",
              "      fill: #D2E3FC;\n",
              "    }\n",
              "\n",
              "    [theme=dark] .colab-df-convert:hover {\n",
              "      background-color: #434B5C;\n",
              "      box-shadow: 0px 1px 3px 1px rgba(0, 0, 0, 0.15);\n",
              "      filter: drop-shadow(0px 1px 2px rgba(0, 0, 0, 0.3));\n",
              "      fill: #FFFFFF;\n",
              "    }\n",
              "  </style>\n",
              "\n",
              "    <script>\n",
              "      const buttonEl =\n",
              "        document.querySelector('#df-3e478978-a189-4e5d-8f3f-1c39babb8745 button.colab-df-convert');\n",
              "      buttonEl.style.display =\n",
              "        google.colab.kernel.accessAllowed ? 'block' : 'none';\n",
              "\n",
              "      async function convertToInteractive(key) {\n",
              "        const element = document.querySelector('#df-3e478978-a189-4e5d-8f3f-1c39babb8745');\n",
              "        const dataTable =\n",
              "          await google.colab.kernel.invokeFunction('convertToInteractive',\n",
              "                                                    [key], {});\n",
              "        if (!dataTable) return;\n",
              "\n",
              "        const docLinkHtml = 'Like what you see? Visit the ' +\n",
              "          '<a target=\"_blank\" href=https://colab.research.google.com/notebooks/data_table.ipynb>data table notebook</a>'\n",
              "          + ' to learn more about interactive tables.';\n",
              "        element.innerHTML = '';\n",
              "        dataTable['output_type'] = 'display_data';\n",
              "        await google.colab.output.renderOutput(dataTable, element);\n",
              "        const docLink = document.createElement('div');\n",
              "        docLink.innerHTML = docLinkHtml;\n",
              "        element.appendChild(docLink);\n",
              "      }\n",
              "    </script>\n",
              "  </div>\n",
              "\n",
              "\n",
              "<div id=\"df-72931b03-be3f-43ba-a695-13ddc8082260\">\n",
              "  <button class=\"colab-df-quickchart\" onclick=\"quickchart('df-72931b03-be3f-43ba-a695-13ddc8082260')\"\n",
              "            title=\"Suggest charts\"\n",
              "            style=\"display:none;\">\n",
              "\n",
              "<svg xmlns=\"http://www.w3.org/2000/svg\" height=\"24px\"viewBox=\"0 0 24 24\"\n",
              "     width=\"24px\">\n",
              "    <g>\n",
              "        <path d=\"M19 3H5c-1.1 0-2 .9-2 2v14c0 1.1.9 2 2 2h14c1.1 0 2-.9 2-2V5c0-1.1-.9-2-2-2zM9 17H7v-7h2v7zm4 0h-2V7h2v10zm4 0h-2v-4h2v4z\"/>\n",
              "    </g>\n",
              "</svg>\n",
              "  </button>\n",
              "\n",
              "<style>\n",
              "  .colab-df-quickchart {\n",
              "      --bg-color: #E8F0FE;\n",
              "      --fill-color: #1967D2;\n",
              "      --hover-bg-color: #E2EBFA;\n",
              "      --hover-fill-color: #174EA6;\n",
              "      --disabled-fill-color: #AAA;\n",
              "      --disabled-bg-color: #DDD;\n",
              "  }\n",
              "\n",
              "  [theme=dark] .colab-df-quickchart {\n",
              "      --bg-color: #3B4455;\n",
              "      --fill-color: #D2E3FC;\n",
              "      --hover-bg-color: #434B5C;\n",
              "      --hover-fill-color: #FFFFFF;\n",
              "      --disabled-bg-color: #3B4455;\n",
              "      --disabled-fill-color: #666;\n",
              "  }\n",
              "\n",
              "  .colab-df-quickchart {\n",
              "    background-color: var(--bg-color);\n",
              "    border: none;\n",
              "    border-radius: 50%;\n",
              "    cursor: pointer;\n",
              "    display: none;\n",
              "    fill: var(--fill-color);\n",
              "    height: 32px;\n",
              "    padding: 0;\n",
              "    width: 32px;\n",
              "  }\n",
              "\n",
              "  .colab-df-quickchart:hover {\n",
              "    background-color: var(--hover-bg-color);\n",
              "    box-shadow: 0 1px 2px rgba(60, 64, 67, 0.3), 0 1px 3px 1px rgba(60, 64, 67, 0.15);\n",
              "    fill: var(--button-hover-fill-color);\n",
              "  }\n",
              "\n",
              "  .colab-df-quickchart-complete:disabled,\n",
              "  .colab-df-quickchart-complete:disabled:hover {\n",
              "    background-color: var(--disabled-bg-color);\n",
              "    fill: var(--disabled-fill-color);\n",
              "    box-shadow: none;\n",
              "  }\n",
              "\n",
              "  .colab-df-spinner {\n",
              "    border: 2px solid var(--fill-color);\n",
              "    border-color: transparent;\n",
              "    border-bottom-color: var(--fill-color);\n",
              "    animation:\n",
              "      spin 1s steps(1) infinite;\n",
              "  }\n",
              "\n",
              "  @keyframes spin {\n",
              "    0% {\n",
              "      border-color: transparent;\n",
              "      border-bottom-color: var(--fill-color);\n",
              "      border-left-color: var(--fill-color);\n",
              "    }\n",
              "    20% {\n",
              "      border-color: transparent;\n",
              "      border-left-color: var(--fill-color);\n",
              "      border-top-color: var(--fill-color);\n",
              "    }\n",
              "    30% {\n",
              "      border-color: transparent;\n",
              "      border-left-color: var(--fill-color);\n",
              "      border-top-color: var(--fill-color);\n",
              "      border-right-color: var(--fill-color);\n",
              "    }\n",
              "    40% {\n",
              "      border-color: transparent;\n",
              "      border-right-color: var(--fill-color);\n",
              "      border-top-color: var(--fill-color);\n",
              "    }\n",
              "    60% {\n",
              "      border-color: transparent;\n",
              "      border-right-color: var(--fill-color);\n",
              "    }\n",
              "    80% {\n",
              "      border-color: transparent;\n",
              "      border-right-color: var(--fill-color);\n",
              "      border-bottom-color: var(--fill-color);\n",
              "    }\n",
              "    90% {\n",
              "      border-color: transparent;\n",
              "      border-bottom-color: var(--fill-color);\n",
              "    }\n",
              "  }\n",
              "</style>\n",
              "\n",
              "  <script>\n",
              "    async function quickchart(key) {\n",
              "      const quickchartButtonEl =\n",
              "        document.querySelector('#' + key + ' button');\n",
              "      quickchartButtonEl.disabled = true;  // To prevent multiple clicks.\n",
              "      quickchartButtonEl.classList.add('colab-df-spinner');\n",
              "      try {\n",
              "        const charts = await google.colab.kernel.invokeFunction(\n",
              "            'suggestCharts', [key], {});\n",
              "      } catch (error) {\n",
              "        console.error('Error during call to suggestCharts:', error);\n",
              "      }\n",
              "      quickchartButtonEl.classList.remove('colab-df-spinner');\n",
              "      quickchartButtonEl.classList.add('colab-df-quickchart-complete');\n",
              "    }\n",
              "    (() => {\n",
              "      let quickchartButtonEl =\n",
              "        document.querySelector('#df-72931b03-be3f-43ba-a695-13ddc8082260 button');\n",
              "      quickchartButtonEl.style.display =\n",
              "        google.colab.kernel.accessAllowed ? 'block' : 'none';\n",
              "    })();\n",
              "  </script>\n",
              "</div>\n",
              "\n",
              "    </div>\n",
              "  </div>\n"
            ],
            "application/vnd.google.colaboratory.intrinsic+json": {
              "type": "dataframe",
              "variable_name": "test_data",
              "repr_error": "unhashable type: 'list'"
            }
          },
          "metadata": {},
          "execution_count": 17
        }
      ]
    },
    {
      "cell_type": "code",
      "execution_count": 18,
      "metadata": {
        "id": "rP7ZtxMNursU"
      },
      "outputs": [],
      "source": [
        "def predict(text):\n",
        "  doc = nlp(text)\n",
        "  skills = []\n",
        "  for skill in doc.ents:\n",
        "    skills.append(skill.text)\n",
        "  return skills\n",
        "\n",
        "test_data['predict'] = test_data['Desc'].apply(predict)"
      ]
    },
    {
      "cell_type": "code",
      "execution_count": 19,
      "metadata": {
        "id": "v0K3zbs6ursV",
        "colab": {
          "base_uri": "https://localhost:8080/",
          "height": 206
        },
        "outputId": "5408c2b8-8447-4a01-be28-f07cf531e065"
      },
      "outputs": [
        {
          "output_type": "execute_result",
          "data": {
            "text/plain": [
              "                                                Desc  \\\n",
              "0  \"wordpress cms web developer experience in wor...   \n",
              "1  \"title node js developer exp 3+ years location...   \n",
              "2  overview worldventures dynamic global member-b...   \n",
              "3  \"founded in 2006 as a workforce strategy consu...   \n",
              "4  \"we are looking for a senior software engineer...   \n",
              "\n",
              "                                              skills  \\\n",
              "0  wordpress core, library, plug-ins, templates, ...   \n",
              "1  software developing, node js., javascript, pre...   \n",
              "2  operational database administration, sql couch...   \n",
              "3  full stack, java, web-services development, fr...   \n",
              "4  software engineering skills, javascript, css, ...   \n",
              "\n",
              "                                             predict  \n",
              "0  wordpress core, library, plug-ins, templates, ...  \n",
              "1  software developing, node js., javascript, pre...  \n",
              "2  operational database administration, sql couch...  \n",
              "3  full stack java, web-services, front-end devel...  \n",
              "4  javascript, css, ui components, web ui, apis d...  "
            ],
            "text/html": [
              "\n",
              "  <div id=\"df-febbcbcb-1d5f-4401-81e1-9d2dafcef4b7\" class=\"colab-df-container\">\n",
              "    <div>\n",
              "<style scoped>\n",
              "    .dataframe tbody tr th:only-of-type {\n",
              "        vertical-align: middle;\n",
              "    }\n",
              "\n",
              "    .dataframe tbody tr th {\n",
              "        vertical-align: top;\n",
              "    }\n",
              "\n",
              "    .dataframe thead th {\n",
              "        text-align: right;\n",
              "    }\n",
              "</style>\n",
              "<table border=\"1\" class=\"dataframe\">\n",
              "  <thead>\n",
              "    <tr style=\"text-align: right;\">\n",
              "      <th></th>\n",
              "      <th>Desc</th>\n",
              "      <th>skills</th>\n",
              "      <th>predict</th>\n",
              "    </tr>\n",
              "  </thead>\n",
              "  <tbody>\n",
              "    <tr>\n",
              "      <th>0</th>\n",
              "      <td>\"wordpress cms web developer experience in wor...</td>\n",
              "      <td>wordpress core, library, plug-ins, templates, ...</td>\n",
              "      <td>wordpress core, library, plug-ins, templates, ...</td>\n",
              "    </tr>\n",
              "    <tr>\n",
              "      <th>1</th>\n",
              "      <td>\"title node js developer exp 3+ years location...</td>\n",
              "      <td>software developing, node js., javascript, pre...</td>\n",
              "      <td>software developing, node js., javascript, pre...</td>\n",
              "    </tr>\n",
              "    <tr>\n",
              "      <th>2</th>\n",
              "      <td>overview worldventures dynamic global member-b...</td>\n",
              "      <td>operational database administration, sql couch...</td>\n",
              "      <td>operational database administration, sql couch...</td>\n",
              "    </tr>\n",
              "    <tr>\n",
              "      <th>3</th>\n",
              "      <td>\"founded in 2006 as a workforce strategy consu...</td>\n",
              "      <td>full stack, java, web-services development, fr...</td>\n",
              "      <td>full stack java, web-services, front-end devel...</td>\n",
              "    </tr>\n",
              "    <tr>\n",
              "      <th>4</th>\n",
              "      <td>\"we are looking for a senior software engineer...</td>\n",
              "      <td>software engineering skills, javascript, css, ...</td>\n",
              "      <td>javascript, css, ui components, web ui, apis d...</td>\n",
              "    </tr>\n",
              "  </tbody>\n",
              "</table>\n",
              "</div>\n",
              "    <div class=\"colab-df-buttons\">\n",
              "\n",
              "  <div class=\"colab-df-container\">\n",
              "    <button class=\"colab-df-convert\" onclick=\"convertToInteractive('df-febbcbcb-1d5f-4401-81e1-9d2dafcef4b7')\"\n",
              "            title=\"Convert this dataframe to an interactive table.\"\n",
              "            style=\"display:none;\">\n",
              "\n",
              "  <svg xmlns=\"http://www.w3.org/2000/svg\" height=\"24px\" viewBox=\"0 -960 960 960\">\n",
              "    <path d=\"M120-120v-720h720v720H120Zm60-500h600v-160H180v160Zm220 220h160v-160H400v160Zm0 220h160v-160H400v160ZM180-400h160v-160H180v160Zm440 0h160v-160H620v160ZM180-180h160v-160H180v160Zm440 0h160v-160H620v160Z\"/>\n",
              "  </svg>\n",
              "    </button>\n",
              "\n",
              "  <style>\n",
              "    .colab-df-container {\n",
              "      display:flex;\n",
              "      gap: 12px;\n",
              "    }\n",
              "\n",
              "    .colab-df-convert {\n",
              "      background-color: #E8F0FE;\n",
              "      border: none;\n",
              "      border-radius: 50%;\n",
              "      cursor: pointer;\n",
              "      display: none;\n",
              "      fill: #1967D2;\n",
              "      height: 32px;\n",
              "      padding: 0 0 0 0;\n",
              "      width: 32px;\n",
              "    }\n",
              "\n",
              "    .colab-df-convert:hover {\n",
              "      background-color: #E2EBFA;\n",
              "      box-shadow: 0px 1px 2px rgba(60, 64, 67, 0.3), 0px 1px 3px 1px rgba(60, 64, 67, 0.15);\n",
              "      fill: #174EA6;\n",
              "    }\n",
              "\n",
              "    .colab-df-buttons div {\n",
              "      margin-bottom: 4px;\n",
              "    }\n",
              "\n",
              "    [theme=dark] .colab-df-convert {\n",
              "      background-color: #3B4455;\n",
              "      fill: #D2E3FC;\n",
              "    }\n",
              "\n",
              "    [theme=dark] .colab-df-convert:hover {\n",
              "      background-color: #434B5C;\n",
              "      box-shadow: 0px 1px 3px 1px rgba(0, 0, 0, 0.15);\n",
              "      filter: drop-shadow(0px 1px 2px rgba(0, 0, 0, 0.3));\n",
              "      fill: #FFFFFF;\n",
              "    }\n",
              "  </style>\n",
              "\n",
              "    <script>\n",
              "      const buttonEl =\n",
              "        document.querySelector('#df-febbcbcb-1d5f-4401-81e1-9d2dafcef4b7 button.colab-df-convert');\n",
              "      buttonEl.style.display =\n",
              "        google.colab.kernel.accessAllowed ? 'block' : 'none';\n",
              "\n",
              "      async function convertToInteractive(key) {\n",
              "        const element = document.querySelector('#df-febbcbcb-1d5f-4401-81e1-9d2dafcef4b7');\n",
              "        const dataTable =\n",
              "          await google.colab.kernel.invokeFunction('convertToInteractive',\n",
              "                                                    [key], {});\n",
              "        if (!dataTable) return;\n",
              "\n",
              "        const docLinkHtml = 'Like what you see? Visit the ' +\n",
              "          '<a target=\"_blank\" href=https://colab.research.google.com/notebooks/data_table.ipynb>data table notebook</a>'\n",
              "          + ' to learn more about interactive tables.';\n",
              "        element.innerHTML = '';\n",
              "        dataTable['output_type'] = 'display_data';\n",
              "        await google.colab.output.renderOutput(dataTable, element);\n",
              "        const docLink = document.createElement('div');\n",
              "        docLink.innerHTML = docLinkHtml;\n",
              "        element.appendChild(docLink);\n",
              "      }\n",
              "    </script>\n",
              "  </div>\n",
              "\n",
              "\n",
              "<div id=\"df-f3b60f6d-00c0-44d8-ab90-d305b09a822f\">\n",
              "  <button class=\"colab-df-quickchart\" onclick=\"quickchart('df-f3b60f6d-00c0-44d8-ab90-d305b09a822f')\"\n",
              "            title=\"Suggest charts\"\n",
              "            style=\"display:none;\">\n",
              "\n",
              "<svg xmlns=\"http://www.w3.org/2000/svg\" height=\"24px\"viewBox=\"0 0 24 24\"\n",
              "     width=\"24px\">\n",
              "    <g>\n",
              "        <path d=\"M19 3H5c-1.1 0-2 .9-2 2v14c0 1.1.9 2 2 2h14c1.1 0 2-.9 2-2V5c0-1.1-.9-2-2-2zM9 17H7v-7h2v7zm4 0h-2V7h2v10zm4 0h-2v-4h2v4z\"/>\n",
              "    </g>\n",
              "</svg>\n",
              "  </button>\n",
              "\n",
              "<style>\n",
              "  .colab-df-quickchart {\n",
              "      --bg-color: #E8F0FE;\n",
              "      --fill-color: #1967D2;\n",
              "      --hover-bg-color: #E2EBFA;\n",
              "      --hover-fill-color: #174EA6;\n",
              "      --disabled-fill-color: #AAA;\n",
              "      --disabled-bg-color: #DDD;\n",
              "  }\n",
              "\n",
              "  [theme=dark] .colab-df-quickchart {\n",
              "      --bg-color: #3B4455;\n",
              "      --fill-color: #D2E3FC;\n",
              "      --hover-bg-color: #434B5C;\n",
              "      --hover-fill-color: #FFFFFF;\n",
              "      --disabled-bg-color: #3B4455;\n",
              "      --disabled-fill-color: #666;\n",
              "  }\n",
              "\n",
              "  .colab-df-quickchart {\n",
              "    background-color: var(--bg-color);\n",
              "    border: none;\n",
              "    border-radius: 50%;\n",
              "    cursor: pointer;\n",
              "    display: none;\n",
              "    fill: var(--fill-color);\n",
              "    height: 32px;\n",
              "    padding: 0;\n",
              "    width: 32px;\n",
              "  }\n",
              "\n",
              "  .colab-df-quickchart:hover {\n",
              "    background-color: var(--hover-bg-color);\n",
              "    box-shadow: 0 1px 2px rgba(60, 64, 67, 0.3), 0 1px 3px 1px rgba(60, 64, 67, 0.15);\n",
              "    fill: var(--button-hover-fill-color);\n",
              "  }\n",
              "\n",
              "  .colab-df-quickchart-complete:disabled,\n",
              "  .colab-df-quickchart-complete:disabled:hover {\n",
              "    background-color: var(--disabled-bg-color);\n",
              "    fill: var(--disabled-fill-color);\n",
              "    box-shadow: none;\n",
              "  }\n",
              "\n",
              "  .colab-df-spinner {\n",
              "    border: 2px solid var(--fill-color);\n",
              "    border-color: transparent;\n",
              "    border-bottom-color: var(--fill-color);\n",
              "    animation:\n",
              "      spin 1s steps(1) infinite;\n",
              "  }\n",
              "\n",
              "  @keyframes spin {\n",
              "    0% {\n",
              "      border-color: transparent;\n",
              "      border-bottom-color: var(--fill-color);\n",
              "      border-left-color: var(--fill-color);\n",
              "    }\n",
              "    20% {\n",
              "      border-color: transparent;\n",
              "      border-left-color: var(--fill-color);\n",
              "      border-top-color: var(--fill-color);\n",
              "    }\n",
              "    30% {\n",
              "      border-color: transparent;\n",
              "      border-left-color: var(--fill-color);\n",
              "      border-top-color: var(--fill-color);\n",
              "      border-right-color: var(--fill-color);\n",
              "    }\n",
              "    40% {\n",
              "      border-color: transparent;\n",
              "      border-right-color: var(--fill-color);\n",
              "      border-top-color: var(--fill-color);\n",
              "    }\n",
              "    60% {\n",
              "      border-color: transparent;\n",
              "      border-right-color: var(--fill-color);\n",
              "    }\n",
              "    80% {\n",
              "      border-color: transparent;\n",
              "      border-right-color: var(--fill-color);\n",
              "      border-bottom-color: var(--fill-color);\n",
              "    }\n",
              "    90% {\n",
              "      border-color: transparent;\n",
              "      border-bottom-color: var(--fill-color);\n",
              "    }\n",
              "  }\n",
              "</style>\n",
              "\n",
              "  <script>\n",
              "    async function quickchart(key) {\n",
              "      const quickchartButtonEl =\n",
              "        document.querySelector('#' + key + ' button');\n",
              "      quickchartButtonEl.disabled = true;  // To prevent multiple clicks.\n",
              "      quickchartButtonEl.classList.add('colab-df-spinner');\n",
              "      try {\n",
              "        const charts = await google.colab.kernel.invokeFunction(\n",
              "            'suggestCharts', [key], {});\n",
              "      } catch (error) {\n",
              "        console.error('Error during call to suggestCharts:', error);\n",
              "      }\n",
              "      quickchartButtonEl.classList.remove('colab-df-spinner');\n",
              "      quickchartButtonEl.classList.add('colab-df-quickchart-complete');\n",
              "    }\n",
              "    (() => {\n",
              "      let quickchartButtonEl =\n",
              "        document.querySelector('#df-f3b60f6d-00c0-44d8-ab90-d305b09a822f button');\n",
              "      quickchartButtonEl.style.display =\n",
              "        google.colab.kernel.accessAllowed ? 'block' : 'none';\n",
              "    })();\n",
              "  </script>\n",
              "</div>\n",
              "\n",
              "    </div>\n",
              "  </div>\n"
            ],
            "application/vnd.google.colaboratory.intrinsic+json": {
              "type": "dataframe",
              "variable_name": "test_data",
              "summary": "{\n  \"name\": \"test_data\",\n  \"rows\": 101,\n  \"fields\": [\n    {\n      \"column\": \"Desc\",\n      \"properties\": {\n        \"dtype\": \"string\",\n        \"samples\": [\n          \"\\\"debug software products through the use of detailed and automated tests to develop, apply, and maintain quality standards for company products. develop, modify, and executes software test plans, automated scripts and programs for testing. maintain documentation of test results to assist in debugging and modification of software. analyse results to ensure existing functionality and recommends corrective action. consults with development engineers in resolution of problems. what you need to succeed b.tech and/or m. tech computer science with excellent academic record good c++ skills are important to give your best from the beginning. basic objective c is a good to have. experience in working with large scale, sophisticated software test frameworks. should be able to perform in-depth product testing such as writing and executing test scripts, and writing test specifications from product specifications with moderate supervision. can use, understand, and write new automated tests for owned areas. able to convey information clearly and optimally within bug reports and documentation. committed to the customer; functions in the role of the customer, anticipating problems, as the customer would see them strong interpersonal and communication skills we will ensure that individuals with disabilities are provided reasonable accommodation to participate in the job application or interview process, to perform crucial job functions, and to receive other benefits and privileges of employment. please contact us to request accommodation.\\\"\\r\",\n          \"\\\"wanted android / ios /web developer fresher or 1 year experience, person with knowledge and experience of backend api development will be preferred. skill set - kotlin / swift / flutter / php / .net/ wp / javascript / html5 job type full-time salary 15,000.00 - 20,000.00 per month schedule day shift education bachelor's preferred work remotely no speak with the employer +91 9893014996\\\"\\r\",\n          \"\\\"job description we plusneed solutions pvt ltd. urgently required two to three java api development. we are looking for this position who have 1-2yr experience in java api development . responsibilities design and build complex core java software in an agile environment, using industry best practices participate in code reviews, pull-request development, pair programming and test development pro-actively contribute to the team s objectives of delivering incremental value every sprint and partner with other team members to deliver those objectives interact with business stakeholders, customers and management to understand and refine user stories and the product backlog have a passion for innovation and improvement whilst recognizing that customer outcomes are always king requirements. required experience and qualifications studied a computer science related subject at an undergraduate degree level or higher fluency in the java language and runtime library fluency in the spring framework and the core concepts of spring testing proven java development experience in a commercial and/or open-source environment proficient knowledge of git or other scms knowledge of test-driven development and a ci/cd setup excellent communication skills and ability to work well in a team experience with one or more of linux/mac os/windows environments willingness to learn new skills and technologies and adapt to arising challenges optional but desirable skills experience with compiler architectures, parsers and syntax trees note we need those candidates who can do work from home. the candidate must have a laptop and a mobile. thanks & regards, harsha nagpure plusneed solutions pvt ltd job types full-time, walk-in job type walk-in schedule morning shift\\\"\\r\"\n        ],\n        \"num_unique_values\": 101,\n        \"semantic_type\": \"\",\n        \"description\": \"\"\n      }\n    },\n    {\n      \"column\": \"skills\",\n      \"properties\": {\n        \"dtype\": \"string\",\n        \"samples\": [\n          \"develop, modify, and executes software test plans, automated scripts and programs for testing., maintain documentation of test results to assist in debugging, results to ensure existing functionality and recommends corrective action., consults with development engineers in resolution of problems., good c++, objective c, working with large scale, sophisticated software test frameworks., perform in-depth product testing such as writing and executing test scripts, writing test specifications from product specifications with moderate supervision., use, understand, and write new automated tests for owned areas., interpersonal, communication skills\",\n          \"backend api, kotlin, swift, flutter, php, .net/, wp, javascript, html5\",\n          \"java api development, design, build complex core java software, agile environment, participate in code reviews, pull-request development, pair programming, test development, java language, runtime library, java development, git, scms knowledge of test-driven, ci/cd setup, excellent communication skills, linux/mac, os/windows environments\"\n        ],\n        \"num_unique_values\": 101,\n        \"semantic_type\": \"\",\n        \"description\": \"\"\n      }\n    },\n    {\n      \"column\": \"predict\",\n      \"properties\": {\n        \"dtype\": \"string\",\n        \"samples\": [\n          \"develop, modify, and executes software test plans, automated scripts and programs for testing., maintain documentation of test results to assist in debugging, results to ensure existing functionality and recommends corrective action., consults with development engineers in resolution of problems., good c++, objective c, working with large scale, sophisticated software test frameworks., perform in-depth product testing such, writing test specifications from product specifications with moderate supervision., use, understand, and write new automated tests for owned areas., interpersonal, communication skills we\",\n          \"backend api, kotlin, swift, flutter, php, .net/, wp, javascript, html5\",\n          \"java api development, build complex core, agile environment, participate in code reviews, pull-request development, pair programming, test development, java language and, runtime library, java development, git, scms knowledge of test-driven, ci/cd setup, excellent communication skills, linux/mac, os/windows environments\"\n        ],\n        \"num_unique_values\": 101,\n        \"semantic_type\": \"\",\n        \"description\": \"\"\n      }\n    }\n  ]\n}"
            }
          },
          "metadata": {},
          "execution_count": 19
        }
      ],
      "source": [
        "test_data['skills'] =test_data['skills'].apply(lambda x : ', '.join(x))\n",
        "test_data['predict'] =test_data['predict'].apply(lambda x : ', '.join(x))\n",
        "test_data.head()"
      ]
    },
    {
      "cell_type": "markdown",
      "source": [
        "## Evaluate"
      ],
      "metadata": {
        "id": "DM4IYZvo_HBm"
      }
    },
    {
      "cell_type": "code",
      "source": [
        "def evaluate(gold, pred):\n",
        "    gold_count = 0\n",
        "    pred_count = 0\n",
        "    TP = 0\n",
        "    for i,j in zip(gold, pred):\n",
        "        if type(i) != str:\n",
        "            i = set()\n",
        "            j = set()\n",
        "        else:\n",
        "            i = set([s.strip().replace(\" \", \"\") for s in i.split(',')])\n",
        "            j = set([s.strip().replace(\" \", \"\") for s in j.split(',')])\n",
        "\n",
        "        j = set(j)\n",
        "        TP += len(i.intersection(j))\n",
        "        gold_count += len(i)\n",
        "        pred_count += len(j)\n",
        "    prec = TP / pred_count\n",
        "    recall = TP / gold_count\n",
        "    f1 = 2 * prec * recall / (prec + recall)\n",
        "    return prec, recall, f1"
      ],
      "metadata": {
        "id": "30mBtq8h3Cpf"
      },
      "execution_count": 20,
      "outputs": []
    },
    {
      "cell_type": "code",
      "source": [
        "evaluate(test_data['skills'].tolist(),test_data['predict'].tolist())"
      ],
      "metadata": {
        "colab": {
          "base_uri": "https://localhost:8080/"
        },
        "id": "Uzo4EKoa4I6l",
        "outputId": "35bdc45d-01ab-4def-b0ba-c7337a328c0c"
      },
      "execution_count": 21,
      "outputs": [
        {
          "output_type": "execute_result",
          "data": {
            "text/plain": [
              "(0.8914081145584726, 0.8479001135073779, 0.8691099476439791)"
            ]
          },
          "metadata": {},
          "execution_count": 21
        }
      ]
    },
    {
      "cell_type": "code",
      "source": [],
      "metadata": {
        "id": "_T6p1nTy-trC"
      },
      "execution_count": null,
      "outputs": []
    }
  ],
  "metadata": {
    "colab": {
      "provenance": [],
      "gpuType": "T4"
    },
    "kernelspec": {
      "display_name": "Python 3",
      "name": "python3"
    },
    "language_info": {
      "codemirror_mode": {
        "name": "ipython",
        "version": 3
      },
      "file_extension": ".py",
      "mimetype": "text/x-python",
      "name": "python",
      "nbconvert_exporter": "python",
      "pygments_lexer": "ipython3",
      "version": "3.9.13"
    },
    "accelerator": "GPU"
  },
  "nbformat": 4,
  "nbformat_minor": 0
}