{
  "cells": [
    {
      "cell_type": "markdown",
      "metadata": {
        "id": "RwyVFxjgweEl"
      },
      "source": [
        "## Import Libraries"
      ]
    },
    {
      "cell_type": "code",
      "execution_count": 1,
      "metadata": {
        "id": "PJPOjYfuCsnT"
      },
      "outputs": [],
      "source": [
        "import re\n",
        "import json\n",
        "import spacy\n",
        "import random\n",
        "import pandas as pd\n",
        "from spacy import util\n",
        "from spacy.tokens import Doc\n",
        "from spacy.training import Example\n",
        "from spacy.language import Language"
      ]
    },
    {
      "cell_type": "markdown",
      "metadata": {
        "id": "TMLRSJF_wkL-"
      },
      "source": [
        "## Read data\n",
        "- We created this data specifically for the ``space model`` because it has a special form for training. You can view it from here [Data Format](https://stackoverflow.com/questions/47443976/formatting-training-dataset-for-spacy-ner)\n"
      ]
    },
    {
      "cell_type": "code",
      "execution_count": 2,
      "metadata": {
        "colab": {
          "base_uri": "https://localhost:8080/"
        },
        "id": "oIOa717_u5y6",
        "outputId": "a6ad9c8d-42bc-46f2-d751-8ce6629cf8dd"
      },
      "outputs": [
        {
          "name": "stdout",
          "output_type": "stream",
          "text": [
            "Mounted at /content/drive\n"
          ]
        }
      ],
      "source": [
        "from google.colab import drive\n",
        "drive.mount('/content/drive')"
      ]
    },
    {
      "cell_type": "code",
      "execution_count": 3,
      "metadata": {
        "id": "c5yyGGQmKEk0"
      },
      "outputs": [],
      "source": [
        "# Data-Json file1\n",
        "with open(r\"/content/drive/MyDrive/Untitled folder/data_cloab/Data_Annotation_1.json\") as src:\n",
        "    ner_annotated_data0 = json.loads(src.read())\n",
        "# Data-Json file2\n",
        "with open(r\"/content/drive/MyDrive/Untitled folder/data_cloab/Data_Annotation_2.json\") as src:\n",
        "    ner_annotated_data1 = json.loads(src.read())\n",
        "# Data-Json file3\n",
        "with open(r\"/content/drive/MyDrive/Untitled folder/data_cloab/Data_Annotation_3.json\") as src:\n",
        "    ner_annotated_data2 = json.loads(src.read())\n",
        "\n",
        "# aggregate all data into one list\n",
        "ner_annotated_data = []\n",
        "for i in ner_annotated_data0['annotations']:\n",
        "    ner_annotated_data.append(i)\n",
        "for i in ner_annotated_data1['annotations']:\n",
        "    ner_annotated_data.append(i)\n",
        "for i in ner_annotated_data2['annotations']:\n",
        "    ner_annotated_data.append(i)"
      ]
    },
    {
      "cell_type": "code",
      "execution_count": 4,
      "metadata": {
        "colab": {
          "base_uri": "https://localhost:8080/"
        },
        "id": "6xB9Hme0u4YR",
        "outputId": "4da397d7-7e0a-4cb4-8a43-14d0a02b22f5"
      },
      "outputs": [
        {
          "data": {
            "text/plain": [
              "[\"small team experienced engineer determined change modern mobility including entrenched car rental industry emphasize team ownership iterative development moving fast without breaking thing looking someone drive development restful apis building rapidly scaling backend ideal candidate experience web programming comfortable working aws infrastructure know whatever framework library currently use open mastering new framework necessary currently hiring full-stack engineer experience level sde sde ii senior sdes applicant minimum 1+ year professional software development experience fluency least one dynamic language ruby preferred silvercar might building apis client facing apps ruby rail interacting data store like rds elasticache redis others creating maintaining scalable infrastructure leveraging modern aws product building amazing ux client side apps angular bootstrap j framework writing test documentation work feature development scrum team maintaining expertise current emerging technology tool technical friend would say really grok ci jenkins etc source control tool git ca n't go sleep knowing test failing really know scalable infrastructure love agile development delivering code make thing work get thing done great communicator would never consider rockstar ninja know automotive bus think unlocking audi via ssh sound awesome non-tech friend might even say make excellent informed decision know ask advice take work seriously take seriously enjoy mentoring others leading example love learn new thing quickly like working team leave thing better found offer competitive base salary bonus incentive eligibility full benefit medical dental vision 401k pto working dynamic team downtown austin alongside developer product-owners friendly small company environment progressive culture flexible hour backed 107 year old automotive industry leader\\r\",\n",
              " {'entities': [[296, 311, 'SKILL'],\n",
              "   [332, 335, 'SKILL'],\n",
              "   [870, 879, 'SKILL'],\n",
              "   [1084, 1087, 'SKILL'],\n",
              "   [1166, 1171, 'SKILL']]}]"
            ]
          },
          "execution_count": 4,
          "metadata": {},
          "output_type": "execute_result"
        }
      ],
      "source": [
        "# Example\n",
        "ner_annotated_data[2]"
      ]
    },
    {
      "cell_type": "markdown",
      "metadata": {
        "id": "2SFsP3HD1zyc"
      },
      "source": [
        "* This is the data format. If you notice, you will find the job description, followed by a beginning indicator and an ending indicator for each skill."
      ]
    },
    {
      "cell_type": "markdown",
      "metadata": {
        "id": "i6bix4N215_L"
      },
      "source": [
        "### Prepare Data\n",
        "* to fit the model"
      ]
    },
    {
      "cell_type": "code",
      "execution_count": 5,
      "metadata": {
        "colab": {
          "base_uri": "https://localhost:8080/"
        },
        "id": "L72N6XveJGvt",
        "outputId": "a64915ee-cba5-418c-f717-fa866156c342"
      },
      "outputs": [
        {
          "data": {
            "text/plain": [
              "(\"small team experienced engineer determined change modern mobility including entrenched car rental industry emphasize team ownership iterative development moving fast without breaking thing looking someone drive development restful apis building rapidly scaling backend ideal candidate experience web programming comfortable working aws infrastructure know whatever framework library currently use open mastering new framework necessary currently hiring full-stack engineer experience level sde sde ii senior sdes applicant minimum 1+ year professional software development experience fluency least one dynamic language ruby preferred silvercar might building apis client facing apps ruby rail interacting data store like rds elasticache redis others creating maintaining scalable infrastructure leveraging modern aws product building amazing ux client side apps angular bootstrap j framework writing test documentation work feature development scrum team maintaining expertise current emerging technology tool technical friend would say really grok ci jenkins etc source control tool git ca n't go sleep knowing test failing really know scalable infrastructure love agile development delivering code make thing work get thing done great communicator would never consider rockstar ninja know automotive bus think unlocking audi via ssh sound awesome non-tech friend might even say make excellent informed decision know ask advice take work seriously take seriously enjoy mentoring others leading example love learn new thing quickly like working team leave thing better found offer competitive base salary bonus incentive eligibility full benefit medical dental vision 401k pto working dynamic team downtown austin alongside developer product-owners friendly small company environment progressive culture flexible hour backed 107 year old automotive industry leader\\r\",\n",
              " [(296, 311, 'SKILL'),\n",
              "  (332, 335, 'SKILL'),\n",
              "  (870, 879, 'SKILL'),\n",
              "  (1084, 1087, 'SKILL'),\n",
              "  (1166, 1171, 'SKILL')])"
            ]
          },
          "execution_count": 5,
          "metadata": {},
          "output_type": "execute_result"
        }
      ],
      "source": [
        "\"\"\"\n",
        "For Example:-\n",
        "(\"Proficient in Python and Java programming languages.\", {\"entities\": [(12, 18, \"SKILL\"), (23, 27, \"SKILL\")]}),\n",
        "\"\"\"\n",
        "train_data = []\n",
        "for lis in ner_annotated_data:\n",
        "  try:\n",
        "    text = lis[0]\n",
        "    label = []\n",
        "    for i in lis[1]['entities']:\n",
        "      label.append((i[0],i[1],i[2]))\n",
        "    train_data.append((text,label))\n",
        "  except:\n",
        "    pass\n",
        "train_data[2]"
      ]
    },
    {
      "cell_type": "code",
      "execution_count": 11,
      "metadata": {
        "id": "XzJ3b9kXRq8k"
      },
      "outputs": [],
      "source": [
        "def print_doc_entities(_doc: Doc):\n",
        "    if _doc.ents:\n",
        "        for _ent in _doc.ents:\n",
        "            print(f\"     {_ent.text},'--->' {_ent.label_}\")\n",
        "    else:\n",
        "        print(\"     NONE\")"
      ]
    },
    {
      "cell_type": "markdown",
      "metadata": {
        "id": "-7i_1yPi4Yvz"
      },
      "source": [
        "## Train Spacy Model"
      ]
    },
    {
      "cell_type": "code",
      "execution_count": 7,
      "metadata": {
        "colab": {
          "base_uri": "https://localhost:8080/"
        },
        "id": "SDpu9VuklCfl",
        "outputId": "acb94183-88ee-48fb-b8ba-807382109e43"
      },
      "outputs": [
        {
          "name": "stdout",
          "output_type": "stream",
          "text": [
            "   Training ...\n"
          ]
        },
        {
          "name": "stderr",
          "output_type": "stream",
          "text": [
            "/usr/local/lib/python3.10/dist-packages/spacy/training/iob_utils.py:149: UserWarning: [W030] Some entities could not be aligned in the text \"\"who we are empirix is a leading provider of custo...\" with entities \"[(378, 396, 'SKILL'), (398, 415, 'SKILL'), (421, 4...\". Use `spacy.training.offsets_to_biluo_tags(nlp.make_doc(text), entities)` to check the alignment. Misaligned entities ('-') will be ignored during training.\n",
            "  warnings.warn(\n",
            "/usr/local/lib/python3.10/dist-packages/spacy/training/iob_utils.py:149: UserWarning: [W030] Some entities could not be aligned in the text \"\"title senior devops engineer skills devops, c#/ja...\" with entities \"[(45, 47, 'SKILL'), (47, 52, 'SKILL'), (98, 103, '...\". Use `spacy.training.offsets_to_biluo_tags(nlp.make_doc(text), entities)` to check the alignment. Misaligned entities ('-') will be ignored during training.\n",
            "  warnings.warn(\n",
            "/usr/local/lib/python3.10/dist-packages/spacy/training/iob_utils.py:149: UserWarning: [W030] Some entities could not be aligned in the text \"\"job description experience - 6 months to 1 year a...\" with entities \"[(104, 154, 'SKILL'), (160, 181, 'SKILL'), (218, 2...\". Use `spacy.training.offsets_to_biluo_tags(nlp.make_doc(text), entities)` to check the alignment. Misaligned entities ('-') will be ignored during training.\n",
            "  warnings.warn(\n",
            "/usr/local/lib/python3.10/dist-packages/spacy/training/iob_utils.py:149: UserWarning: [W030] Some entities could not be aligned in the text \"\"experience 1-3 yrs number of vacancies 1 job desc...\" with entities \"[(65, 74, 'SKILL'), (76, 81, 'SKILL'), (83, 86, 'S...\". Use `spacy.training.offsets_to_biluo_tags(nlp.make_doc(text), entities)` to check the alignment. Misaligned entities ('-') will be ignored during training.\n",
            "  warnings.warn(\n"
          ]
        }
      ],
      "source": [
        "def customizing_pipeline_component(nlp: Language,epoch:int):\n",
        "    #Disable all pipelines components except NER\n",
        "    disabled_pipes = []\n",
        "    for pipe_name in nlp.pipe_names:\n",
        "        if pipe_name != 'ner':\n",
        "            nlp.disable_pipes(pipe_name)\n",
        "            disabled_pipes.append(pipe_name)\n",
        "    # Train Model\n",
        "    print(\"   Training ...\")\n",
        "    optimizer = nlp.create_optimizer()\n",
        "    for _ in range(epoch):\n",
        "        random.shuffle(train_data)\n",
        "        for raw_text, entity_offsets in train_data:\n",
        "            doc = nlp.make_doc(raw_text)\n",
        "            example = Example.from_dict(doc, {\"entities\": entity_offsets})\n",
        "            nlp.update([example], sgd=optimizer)\n",
        "\n",
        "    # Enable all previously disabled pipe components\n",
        "    for pipe_name in disabled_pipes:\n",
        "        nlp.enable_pipe(pipe_name)\n",
        "    return nlp\n",
        "# Load the pre-trained model and fine-tune it for NER\n",
        "epoch=10\n",
        "model = spacy.load('en_core_web_sm')\n",
        "model_spacy = customizing_pipeline_component(model,epoch)"
      ]
    },
    {
      "cell_type": "code",
      "execution_count": 12,
      "metadata": {
        "colab": {
          "base_uri": "https://localhost:8080/"
        },
        "id": "QKeVUY0qlEX0",
        "outputId": "f799cb5e-ec27-4527-a9f7-2e7e96b2b302"
      },
      "outputs": [
        {
          "name": "stdout",
          "output_type": "stream",
          "text": [
            "     web services .,'--->' SKILL\n",
            "     relational databases.,'--->' SKILL\n",
            "     mvc architecture.,'--->' SKILL\n",
            "     c,'--->' SKILL\n",
            "     .net,'--->' SKILL\n",
            "     .net core,'--->' SKILL\n",
            "     html5,'--->' SKILL\n",
            "     css3,'--->' SKILL\n",
            "     mssql,'--->' SKILL\n",
            "     mysql,'--->' SKILL\n",
            "     reactjs.,'--->' SKILL\n",
            "     syspro s erp,'--->' SKILL\n",
            "     decision making abilities ability,'--->' SKILL\n"
          ]
        }
      ],
      "source": [
        "x =\"software developer integration immediate opening a dynamic akron or cleveland area company is looking for an experienced software developer. the integration developer designs, develops, tests, maintains and enhances multiple systems serving internal users as well as our suppliers and customers. the integration developer interacts with it and other internal business partners to deliver systems that advance company strategy and improve the enterprise capability of it. candidates need to demonstrate experience in the following skillsets proven technical expertise in the design, development, coding, testing, and debugging of enterprise software. strong knowledge of web services . experience working with relational databases. experience authoring and maintaining data access and or or database queries. familiar with standard software design patterns, methodologies, and the mvc architecture. proficient in the following technologies c , .net, .net core, html5, css3, mssql, mysql, reactjs. experience working with and or or administering microsoft iis experience with syspro s erp package a plus but not required candidates must be able to execute the following functions creates and deploys code and configuration associated with support and project work across our application portfolio. assists in creating, evolving and standardizing technical processes such as source code management, continuous integration, etc. submits code and configuration with high levels of quality, performance, security, scalability and extensibility. assists in the creation and evaluation of business requirements and project plans. other requirements include takes pride in delivering work on time and with quality good problem solving and decision making abilities ability to learn quickly in a fast paced environment ability to both work independently and with teams effectively juggles a continuous mix of support and project work able to work off hours or provide on call support when needed the ideal candidate must be a self starter, able to work independently, and have experience in the skillsets mentioned above. this position requires a highly responsible and organized individual with a good work ethic and a minimum of two years of experience using the tools and technologies noted above. compensation is commensurate with experience. industries manufacturing other education bachelor s degree in computer science, information systems, or related field, or combination of education and equivalent work experience. job type contract experience software development 2 years work location one location work remotely no\"\n",
        "print_doc_entities(model_spacy(x))"
      ]
    },
    {
      "cell_type": "code",
      "execution_count": 14,
      "metadata": {
        "id": "FDX-XngWpGvd"
      },
      "outputs": [],
      "source": [
        "# model_spacy.to_disk('/content/drive/MyDrive/Untitled folder/data_cloab/ner_model')"
      ]
    },
    {
      "cell_type": "code",
      "execution_count": 16,
      "metadata": {
        "colab": {
          "base_uri": "https://localhost:8080/"
        },
        "id": "EUqqPHrTpYD8",
        "outputId": "9a879386-b027-4574-9daa-6d0802235079"
      },
      "outputs": [
        {
          "name": "stdout",
          "output_type": "stream",
          "text": [
            "     web services .,'--->' SKILL\n",
            "     relational databases.,'--->' SKILL\n",
            "     mvc architecture.,'--->' SKILL\n",
            "     c,'--->' SKILL\n",
            "     .net,'--->' SKILL\n",
            "     .net core,'--->' SKILL\n",
            "     html5,'--->' SKILL\n",
            "     css3,'--->' SKILL\n",
            "     mssql,'--->' SKILL\n",
            "     mysql,'--->' SKILL\n",
            "     reactjs.,'--->' SKILL\n",
            "     syspro s erp,'--->' SKILL\n",
            "     decision making abilities ability,'--->' SKILL\n"
          ]
        }
      ],
      "source": [
        "nlp = spacy.load('/content/drive/MyDrive/Untitled folder/data_cloab/ner_model')\n",
        "x = \"software developer integration immediate opening a dynamic akron or cleveland area company is looking for an experienced software developer. the integration developer designs, develops, tests, maintains and enhances multiple systems serving internal users as well as our suppliers and customers. the integration developer interacts with it and other internal business partners to deliver systems that advance company strategy and improve the enterprise capability of it. candidates need to demonstrate experience in the following skillsets proven technical expertise in the design, development, coding, testing, and debugging of enterprise software. strong knowledge of web services . experience working with relational databases. experience authoring and maintaining data access and or or database queries. familiar with standard software design patterns, methodologies, and the mvc architecture. proficient in the following technologies c , .net, .net core, html5, css3, mssql, mysql, reactjs. experience working with and or or administering microsoft iis experience with syspro s erp package a plus but not required candidates must be able to execute the following functions creates and deploys code and configuration associated with support and project work across our application portfolio. assists in creating, evolving and standardizing technical processes such as source code management, continuous integration, etc. submits code and configuration with high levels of quality, performance, security, scalability and extensibility. assists in the creation and evaluation of business requirements and project plans. other requirements include takes pride in delivering work on time and with quality good problem solving and decision making abilities ability to learn quickly in a fast paced environment ability to both work independently and with teams effectively juggles a continuous mix of support and project work able to work off hours or provide on call support when needed the ideal candidate must be a self starter, able to work independently, and have experience in the skillsets mentioned above. this position requires a highly responsible and organized individual with a good work ethic and a minimum of two years of experience using the tools and technologies noted above. compensation is commensurate with experience. industries manufacturing other education bachelor s degree in computer science, information systems, or related field, or combination of education and equivalent work experience. job type contract experience software development 2 years work location one location work remotely no\"\n",
        "print_doc_entities(model_spacy(x))"
      ]
    },
    {
      "cell_type": "code",
      "execution_count": 17,
      "metadata": {
        "id": "rP7ZtxMNursU"
      },
      "outputs": [],
      "source": [
        "# nlp = spacy.load('en_model_ner_skills')\n",
        "# x = \"software developer integration immediate opening a dynamic akron or cleveland area company is looking for an experienced software developer. the integration developer designs, develops, tests, maintains and enhances multiple systems serving internal users as well as our suppliers and customers. the integration developer interacts with it and other internal business partners to deliver systems that advance company strategy and improve the enterprise capability of it. candidates need to demonstrate experience in the following skillsets proven technical expertise in the design, development, coding, testing, and debugging of enterprise software. strong knowledge of web services . experience working with relational databases. experience authoring and maintaining data access and or or database queries. familiar with standard software design patterns, methodologies, and the mvc architecture. proficient in the following technologies c , .net, .net core, html5, css3, mssql, mysql, reactjs. experience working with and or or administering microsoft iis experience with syspro s erp package a plus but not required candidates must be able to execute the following functions creates and deploys code and configuration associated with support and project work across our application portfolio. assists in creating, evolving and standardizing technical processes such as source code management, continuous integration, etc. submits code and configuration with high levels of quality, performance, security, scalability and extensibility. assists in the creation and evaluation of business requirements and project plans. other requirements include takes pride in delivering work on time and with quality good problem solving and decision making abilities ability to learn quickly in a fast paced environment ability to both work independently and with teams effectively juggles a continuous mix of support and project work able to work off hours or provide on call support when needed the ideal candidate must be a self starter, able to work independently, and have experience in the skillsets mentioned above. this position requires a highly responsible and organized individual with a good work ethic and a minimum of two years of experience using the tools and technologies noted above. compensation is commensurate with experience. industries manufacturing other education bachelor s degree in computer science, information systems, or related field, or combination of education and equivalent work experience. job type contract experience software development 2 years work location one location work remotely no\"\n",
        "# nlp(x).ents"
      ]
    },
    {
      "cell_type": "code",
      "execution_count": null,
      "metadata": {
        "id": "v0K3zbs6ursV"
      },
      "outputs": [],
      "source": []
    }
  ],
  "metadata": {
    "accelerator": "GPU",
    "colab": {
      "gpuType": "T4",
      "provenance": []
    },
    "kernelspec": {
      "display_name": "Python 3",
      "name": "python3"
    },
    "language_info": {
      "codemirror_mode": {
        "name": "ipython",
        "version": 3
      },
      "file_extension": ".py",
      "mimetype": "text/x-python",
      "name": "python",
      "nbconvert_exporter": "python",
      "pygments_lexer": "ipython3",
      "version": "3.9.13"
    }
  },
  "nbformat": 4,
  "nbformat_minor": 0
}
